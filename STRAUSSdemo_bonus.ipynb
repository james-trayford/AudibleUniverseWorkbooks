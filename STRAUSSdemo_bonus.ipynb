{
 "cells": [
  {
   "cell_type": "markdown",
   "metadata": {
    "colab_type": "text",
    "id": "view-in-github"
   },
   "source": [
    "<a href=\"https://colab.research.google.com/github/james-trayford/AudibleUniverseWorkbooks/blob/group4/STRAUSSdemo_bonus.ipynb\" target=\"_parent\"><img src=\"https://colab.research.google.com/assets/colab-badge.svg\" alt=\"Open In Colab\"/></a>"
   ]
  },
  {
   "cell_type": "markdown",
   "metadata": {
    "id": "FXMXgH-xVgaX"
   },
   "source": [
    "Notebook prepared by **Dr James Trayford** - for queries please email [`james.trayford@port.ac.uk`](mailto:james.trayford@port.ac.uk)"
   ]
  },
  {
   "cell_type": "markdown",
   "metadata": {
    "id": "DBwYdDYB9lCQ"
   },
   "source": [
    "To use this notebook (if you haven't already) you can first save a copy to your local drive by clicking `File > Save a Copy in Drive` and run on that copy. `Edit > Clear all outputs` on that copy should also ensure yopu have a clean version\n",
    " to start from.\n",
    " \n",
    " ***This is a bonus notebook for main activity [here](https://github.com/james-trayford/AudibleUniverseWorkbooks/blob/group4/STRAUSSdemo.ipynb), demonstrating the fundamentals in more detail.***"
   ]
  },
  {
   "cell_type": "markdown",
   "metadata": {
    "id": "3zJMkFJwTTC9"
   },
   "source": [
    "## **1. Setup:**\n",
    "\n"
   ]
  },
  {
   "cell_type": "markdown",
   "metadata": {
    "id": "bH3ld6PZP2vX"
   },
   "source": [
    "***Note: you may not need to install `strauss` again if you have done so already! If so can skip running the following cell***\n",
    "\n",
    "First, let's install `strauss`! Just run the code cell below. \n",
    "\n",
    "*We will use the `spectraliser` development branch for this notebook. Install can take a while - but you should only need to run it once!*\n"
   ]
  },
  {
   "cell_type": "code",
   "execution_count": null,
   "metadata": {
    "id": "FgF2VVpZPl_V"
   },
   "outputs": [],
   "source": [
    " !pip --quiet install git+https://github.com/james-trayford/strauss.git@spectraliser -U"
   ]
  },
  {
   "cell_type": "markdown",
   "metadata": {
    "id": "IrRwGGvJdIP6"
   },
   "source": [
    "and also make a local copy of the repository"
   ]
  },
  {
   "cell_type": "code",
   "execution_count": null,
   "metadata": {
    "id": "UqHJTrrTdBhB"
   },
   "outputs": [],
   "source": [
    " !git clone https://github.com/james-trayford/strauss.git"
   ]
  },
  {
   "cell_type": "markdown",
   "metadata": {
    "id": "h4FQXd9fUkfr"
   },
   "source": [
    "Make plots appear in-line by default"
   ]
  },
  {
   "cell_type": "code",
   "execution_count": null,
   "metadata": {
    "id": "J9_unXRNUgim"
   },
   "outputs": [],
   "source": [
    "%matplotlib inline"
   ]
  },
  {
   "cell_type": "markdown",
   "metadata": {
    "id": "yYvyH45vTR-b"
   },
   "source": [
    "Import the modules we need..."
   ]
  },
  {
   "cell_type": "code",
   "execution_count": null,
   "metadata": {
    "id": "W0rPodqYQorM"
   },
   "outputs": [],
   "source": [
    "# strauss imports\n",
    "from strauss.sonification import Sonification\n",
    "from strauss.sources import Events, Objects\n",
    "from strauss import channels\n",
    "from strauss.score import Score\n",
    "from strauss.generator import Sampler, Synthesizer, Spectralizer\n",
    "from strauss import sources as Sources \n",
    "import strauss\n",
    "\n",
    "# other useful modules\n",
    "import matplotlib.pyplot as plt\n",
    "import numpy as np\n",
    "from scipy.stats import norm\n",
    "from scipy.signal import savgol_filter\n",
    "import urllib.request\n",
    "import os\n",
    "import zipfile\n",
    "import glob\n",
    "import yaml\n",
    "import pandas as pd\n",
    "\n",
    "# modules to display in-notebook\n",
    "import IPython.display as ipd\n",
    "from IPython.core.display import display, Markdown, Latex, Image\n",
    "\n",
    "# set figures to be a decent size by default\n",
    "import matplotlib\n",
    "font = {'family' : 'sans-serif',\n",
    "        'weight' : 'normal',\n",
    "        'size'   : 18}\n",
    "matplotlib.rc('font', **font)\n",
    "matplotlib.rc('figure', **{'figsize':[14.0, 7.0]})"
   ]
  },
  {
   "cell_type": "markdown",
   "metadata": {
    "id": "Svu0wV5akl24"
   },
   "source": [
    "## ***Bonus: Multivariate time-series***"
   ]
  },
  {
   "cell_type": "markdown",
   "metadata": {
    "id": "fPA37XGFyhxb"
   },
   "source": [
    "Grab the bonus data..."
   ]
  },
  {
   "cell_type": "code",
   "execution_count": null,
   "metadata": {
    "colab": {
     "background_save": true
    },
    "id": "uXY2AOJLReYl"
   },
   "outputs": [],
   "source": [
    "outdir = \"./AU2_Group4\"\n",
    "\n",
    "path = os.path.realpath(outdir)\n",
    "if not glob.glob(outdir): \n",
    "  os.mkdir(path)  \n",
    "    \n",
    "fname = \"Group4_input_data_bonus.zip\"\n",
    "url = \"https://drive.google.com/uc?export=download&id=1a6AHrfjsnYEzfLRMySsEN8HEttKAVkBg\"\n",
    "\n",
    "print(f\"Downloading files...\")\n",
    "with urllib.request.urlopen(url) as response, open(f\"{path}/{fname}\", 'wb') as out_file:\n",
    "  data = response.read() # a `bytes` object\n",
    "  out_file.write(data)\n",
    "\n",
    "print(f\"Unzipping files to {outdir}/Data_bonus ...\")\n",
    "with zipfile.ZipFile(f\"{outdir}/{fname}\", 'r') as zip_ref:\n",
    "    zip_ref.extractall(f\"{outdir}\")\n",
    "\n",
    "print(f\"Clearing up...\")\n",
    "os.remove(f\"{path}/{fname}\")\n",
    "\n",
    "print(\"Done.\")"
   ]
  },
  {
   "cell_type": "markdown",
   "metadata": {
    "id": "pJcXqNBpykjL"
   },
   "source": [
    "Lets look at these multivariate data sets. These are star-formation and metal-enrichment histories of 5 galaxies from the [EAGLE simulations](https://eagle.strw.leidenuniv.nl/) (virtual galaxies, modelled on a supercomputer) \n",
    "\n",
    "We see that we have two time-dependent quantities: The rate at which stars form (aka ***SFR***, in solar masses per year) and the mass fraction of those stars in elements heavier than Helium (aka ***Metallicity*** or $Z$) \n",
    "\n",
    "Let's take a look..."
   ]
  },
  {
   "cell_type": "code",
   "execution_count": null,
   "metadata": {
    "colab": {
     "background_save": true
    },
    "id": "40Nyj0sVU5Km"
   },
   "outputs": [],
   "source": [
    "for f in glob.glob('./AU2_Group4/Data_bonus/*.txt'):\n",
    "  data_table = pd.read_csv(f)\n",
    "  display(Markdown(f\"### File: <mark>`{f}`</mark>\"))\n",
    "  xlab = data_table.columns[0]\n",
    "  ylab = data_table.columns[1]\n",
    "  zlab = data_table.columns[2]\n",
    "  plt.plot(data_table[xlab], data_table[ylab])\n",
    "  plt.xlabel(f'{xlab}')\n",
    "  plt.ylabel(f'{ylab}')\n",
    "  plt.show()\n",
    "  plt.plot(data_table[xlab], data_table[zlab])\n",
    "  plt.xlabel(f'{xlab}')\n",
    "  plt.ylabel(f'{zlab}')\n",
    "  plt.show()\n",
    "  print(data_table.head())\n",
    "  #display(data_table)"
   ]
  },
  {
   "cell_type": "markdown",
   "metadata": {
    "id": "oTqJ0KNbzjJY"
   },
   "source": [
    "First we will try sonifying these by mapping SFR to `pitch_shift` and Metallicity ($Z$) to low-pass filter `cutoff`  "
   ]
  },
  {
   "cell_type": "code",
   "execution_count": null,
   "metadata": {
    "colab": {
     "background_save": true
    },
    "id": "KuZzT9SPUDG_"
   },
   "outputs": [],
   "source": [
    "# some strauss setup can happen outside the loop...\n",
    "generator = Synthesizer()\n",
    "generator.load_preset('default')\n",
    "generator.modify_preset({'filter':'on'})\n",
    "notes = [[\"A2\", \"E3\"]]\n",
    "score =  Score(notes, length)\n",
    "\n",
    "lims = {'time_evo': ('0','100'),\n",
    "        'pitch_shift': ('0','100'),\n",
    "        'cutoff': ('0','100')}\n",
    "\n",
    "display(Markdown(f\"## Mapping SFR to <mark>***`pitch_shift`***</mark> and Metallicity to <mark>***`cutoff`***</mark>:\"))\n",
    "\n",
    "for f in glob.glob('./AU2_Group4/Data_bonus/*.txt'):\n",
    "\n",
    "  display(Markdown(f\"### EAGLE Galaxy <mark>***`{f.split('.')[1].split('_')[-1]}`</mark>***:\"))\n",
    "  \n",
    "  # get data\n",
    "  data_table = np.genfromtxt(f, delimiter=',')[1:]\n",
    "  time = data_table[:,0]\n",
    "  sfr = data_table[:,1]\n",
    "  Z = data_table[:,2]\n",
    "\n",
    "  # plot multivariate data ------------------------ \n",
    "  plt.plot(time,sfr)\n",
    "  plt.xlabel(f'Time [Gyr]')\n",
    "  plt.ylabel(f'Star Formation Rate [Msun/year]')\n",
    "  plt.gca().twinx()\n",
    "  plt.plot([0],[0], label='Star Formation Rate') # dummy plot to make legend work\n",
    "  plt.plot(time,Z,c='C1',label=\"Stellar Metallicity\")\n",
    "  plt.xlabel(f'Time [Gyr]')\n",
    "  plt.ylabel(f'Metallicity')\n",
    "  plt.legend(frameon=0)\n",
    "  plt.show()\n",
    "  # ------------------------------------------------ \n",
    "\n",
    "  %matplotlib notebook\n",
    "\n",
    "  data = {'pitch':[0,1],\n",
    "          'time_evo':[time]*2,\n",
    "          'pitch_shift':[sfr]*2,\n",
    "          'cutoff':[Z]*2}\n",
    "\n",
    "\n",
    "\n",
    "  # set up source\n",
    "  sources = Objects(data.keys())\n",
    "  sources.fromdict(data)\n",
    "  plims = {'cutoff': (0.3,0.9)}\n",
    "  sources.apply_mapping_functions(map_lims=lims, param_lims=plims)\n",
    "\n",
    "  soni = Sonification(score, sources, generator, system)\n",
    "  soni.render()\n",
    "  dobj = soni.notebook_display()\n",
    "\n",
    "  %matplotlib inline\n",
    "\n",
    "# change back in case cells are run out of order...\n",
    "generator.load_preset('pitch_mapper')"
   ]
  },
  {
   "cell_type": "markdown",
   "metadata": {
    "id": "jTS8M907xQVm"
   },
   "source": [
    "Now let's choose some combination of evolvable parameters!\n",
    "\n",
    "Now there are 2 properties being sonified at once (not including the time variable), there are 28 possible combinations of these mappings $\\left(\\frac{8!}{2!(8-2)!} = 28\\right)$ \n",
    "\n",
    "Some combinations might work better than others..."
   ]
  },
  {
   "cell_type": "code",
   "execution_count": null,
   "metadata": {
    "colab": {
     "background_save": true
    },
    "id": "6d7NOvOTbxcM"
   },
   "outputs": [],
   "source": [
    "# A list of some 'evolvable' mappings\n",
    "some_mappings = [\"pitch_shift\",\n",
    "                 \"cutoff\",\n",
    "                 \"volume\",\n",
    "                 \"phi\",\n",
    "                 \"volume_lfo/amount\", \n",
    "                 \"volume_lfo/freq_shift\",\n",
    "                 \"pitch_lfo/amount\", \n",
    "                 \"pitch_lfo/freq_shift\"]\n",
    "\n",
    "# !! change these (between 0 and 7) to select a different property to map... \n",
    "idx_sfr = 1\n",
    "idx_Z = 5\n",
    "\n",
    "chosen = [some_mappings[idx_Z],some_mappings[idx_sfr]]\n",
    "\n",
    "# use a stereo system to allow 'phi' mapping (low pan left and high pan right)\n",
    "system = \"stereo\"\n",
    "\n",
    "# some strauss setup can happen outside the loop...\n",
    "generator = Synthesizer()\n",
    "\n",
    "generator = Synthesizer()\n",
    "generator.modify_preset({'filter':'on',\n",
    "                         \"pitch_hi\":-1, \"pitch_lo\": 1,\n",
    "                         \"pitch_lfo\": {\"use\": \"on\", \n",
    "                                       \"amount\":1*(\"pitch_lfo/freq_shift\" in chosen), \n",
    "                                       \"freq\":3*5**(\"pitch_lfo/freq_shift\" not in chosen), \n",
    "                                       \"phase\":0.25},\n",
    "                         \"volume_lfo\": {\"use\": \"on\", \n",
    "                                        \"amount\":1*(\"volume_lfo/freq_shift\" in chosen), \n",
    "                                        \"freq\":3*5**(\"volume_lfo/freq_shift\" not in chosen), \n",
    "                                        \"phase\":0}\n",
    "                        })\n",
    "\n",
    "\n",
    "notes = [[\"A2\", \"E3\"]]\n",
    "score =  Score(notes, length)\n",
    "\n",
    "lims = {'time_evo': ('0','100'),\n",
    "        'pitch_shift': ('0','100'),\n",
    "        'cutoff': ('0','100'),\n",
    "        \"volume\": ('0','100'), \n",
    "        \"phi\": (-0.5,1.5),\n",
    "        \"volume_lfo/amount\": ('0','100'), \n",
    "        \"volume_lfo/freq_shift\": ('0','100'),\n",
    "        \"pitch_lfo/amount\": ('0','100'), \n",
    "        \"pitch_lfo/freq_shift\": ('0','100')}\n",
    "\n",
    "display(Markdown(f\"## Mapping SFR to <mark>***`{some_mappings[idx_sfr]}`***</mark> and Metallicity to <mark>***`{some_mappings[idx_Z]}`***</mark>:\"))\n",
    "\n",
    "for f in glob.glob('./AU2_Group4/Data_bonus/*.txt'):\n",
    "\n",
    "  display(Markdown(f\"### EAGLE Galaxy <mark>***`{f.split('.')[1].split('_')[-1]}`</mark>***:\"))\n",
    "\n",
    "  # get data\n",
    "  data_table = np.genfromtxt(f, delimiter=',')[1:]\n",
    "  time = data_table[:,0]\n",
    "  sfr = data_table[:,1]\n",
    "  Z = data_table[:,2]\n",
    "\n",
    "  # plot multivariate data ------------------------ \n",
    "  plt.plot(time,sfr)\n",
    "  plt.xlabel(f'Time [Gyr]')\n",
    "  plt.ylabel(f'Star Formation Rate [Msun/year]')\n",
    "  plt.gca().twinx()\n",
    "  plt.plot([0],[0], label='Star Formation Rate') # dummy plot to make legend work\n",
    "  plt.plot(time,Z,c='C1',label=\"Stellar Metallicity\")\n",
    "  plt.xlabel(f'Time [Gyr]')\n",
    "  plt.ylabel(f'Metallicity')\n",
    "  plt.legend(frameon=0)\n",
    "  plt.show()\n",
    "  # ------------------------------------------------ \n",
    "\n",
    "  %matplotlib notebook\n",
    "\n",
    "  data = {'pitch':[0,1],\n",
    "          'time_evo':[time]*2,\n",
    "          'theta':[0.5]*2,\n",
    "          some_mappings[idx_sfr]:[(sfr - sfr.min())/(sfr.max()-sfr.min())]*2,\n",
    "          some_mappings[idx_Z]:[(Z - Z.min())/(Z.max()-Z.min())]*2}\n",
    "\n",
    "  # set up source\n",
    "  sources = Objects(data.keys())\n",
    "  sources.fromdict(data)\n",
    "  plims = {'cutoff': (0.4,1)}\n",
    "  sources.apply_mapping_functions(map_lims=lims, param_lims=plims)\n",
    "\n",
    "  soni = Sonification(score, sources, generator, system)\n",
    "  soni.render()\n",
    "  dobj = soni.notebook_display()\n",
    "\n",
    "  %matplotlib inline\n",
    "\n",
    "# change back in case cells are run out of order...\n",
    "generator.load_preset('pitch_mapper')"
   ]
  },
  {
   "cell_type": "code",
   "execution_count": null,
   "metadata": {},
   "outputs": [],
   "source": []
  }
 ],
 "metadata": {
  "colab": {
   "collapsed_sections": [
    "MCE-nk67Lf5N",
    "ox6vDc4qIB1A"
   ],
   "provenance": []
  },
  "kernelspec": {
   "display_name": "Python 3 (ipykernel)",
   "language": "python",
   "name": "python3"
  },
  "language_info": {
   "codemirror_mode": {
    "name": "ipython",
    "version": 3
   },
   "file_extension": ".py",
   "mimetype": "text/x-python",
   "name": "python",
   "nbconvert_exporter": "python",
   "pygments_lexer": "ipython3",
   "version": "3.9.13"
  }
 },
 "nbformat": 4,
 "nbformat_minor": 4
}
